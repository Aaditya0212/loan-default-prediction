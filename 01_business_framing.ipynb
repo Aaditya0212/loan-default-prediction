{
 "cells": [
  {
   "cell_type": "code",
   "execution_count": 1,
   "id": "923544be-ff9d-41b4-b23c-59c49efcd5fa",
   "metadata": {},
   "outputs": [
    {
     "name": "stdout",
     "output_type": "stream",
     "text": [
      "Environment setup complete\n",
      "Pandas version: 2.3.1\n",
      "NumPy version: 1.26.4\n"
     ]
    }
   ],
   "source": [
    "import pandas as pd\n",
    "import numpy as np\n",
    "import warnings\n",
    "warnings.filterwarnings('ignore')\n",
    "\n",
    "# Display settings\n",
    "pd.set_option('display.max_columns', None)\n",
    "pd.set_option('display.max_rows', 100)\n",
    "pd.set_option('display.float_format', lambda x: '%.3f' % x)\n",
    "\n",
    "print(\"Environment setup complete\")\n",
    "print(f\"Pandas version: {pd.__version__}\")\n",
    "print(f\"NumPy version: {np.__version__}\")"
   ]
  },
  {
   "cell_type": "code",
   "execution_count": 2,
   "id": "c8b47941-4571-4b72-9a70-a645a0788a60",
   "metadata": {},
   "outputs": [
    {
     "name": "stdout",
     "output_type": "stream",
     "text": [
      "Dataset shape: 2,260,701 rows x 151 columns\n",
      "\n",
      "Memory usage: 5992.29 MB\n",
      "\n",
      "Date range: 2007-06-01 00:00:00 to 2018-12-01 00:00:00\n"
     ]
    }
   ],
   "source": [
    "# Load the dataset\n",
    "df = pd.read_csv('accepted_2007_to_2018Q4.csv', low_memory=False)\n",
    "\n",
    "print(f\"Dataset shape: {df.shape[0]:,} rows x {df.shape[1]} columns\")\n",
    "print(f\"\\nMemory usage: {df.memory_usage(deep=True).sum() / 1024**2:.2f} MB\")\n",
    "\n",
    "# Check if issue_d exists and has valid dates\n",
    "if 'issue_d' in df.columns:\n",
    "    df['issue_d'] = pd.to_datetime(df['issue_d'], errors='coerce')\n",
    "    valid_dates = df['issue_d'].notna()\n",
    "    if valid_dates.any():\n",
    "        print(f\"\\nDate range: {df.loc[valid_dates, 'issue_d'].min()} to {df.loc[valid_dates, 'issue_d'].max()}\")\n",
    "    else:\n",
    "        print(\"\\nNo valid dates found in issue_d column\")\n",
    "else:\n",
    "    print(\"\\nissue_d column not found in dataset\")"
   ]
  },
  {
   "cell_type": "code",
   "execution_count": 3,
   "id": "998a09e2-e409-4159-a167-1a240fa823aa",
   "metadata": {},
   "outputs": [
    {
     "name": "stdout",
     "output_type": "stream",
     "text": [
      "Loan Status Distribution:\n",
      "loan_status\n",
      "Fully Paid                                             1076751\n",
      "Current                                                 878317\n",
      "Charged Off                                             268559\n",
      "Late (31-120 days)                                       21467\n",
      "In Grace Period                                           8436\n",
      "Late (16-30 days)                                         4349\n",
      "Does not meet the credit policy. Status:Fully Paid        1988\n",
      "Does not meet the credit policy. Status:Charged Off        761\n",
      "Default                                                     40\n",
      "Name: count, dtype: int64\n",
      "\n",
      "Percentage distribution:\n",
      "loan_status\n",
      "Fully Paid                                            47.630\n",
      "Current                                               38.852\n",
      "Charged Off                                           11.880\n",
      "Late (31-120 days)                                     0.950\n",
      "In Grace Period                                        0.373\n",
      "Late (16-30 days)                                      0.192\n",
      "Does not meet the credit policy. Status:Fully Paid     0.088\n",
      "Does not meet the credit policy. Status:Charged Off    0.034\n",
      "Default                                                0.002\n",
      "Name: proportion, dtype: float64\n"
     ]
    }
   ],
   "source": [
    "# Examine loan status distribution\n",
    "print(\"Loan Status Distribution:\")\n",
    "print(df['loan_status'].value_counts())\n",
    "print(\"\\nPercentage distribution:\")\n",
    "print(df['loan_status'].value_counts(normalize=True) * 100)"
   ]
  },
  {
   "cell_type": "code",
   "execution_count": 4,
   "id": "ce8ce996-bcd3-41c4-9321-a89dd8a53c76",
   "metadata": {},
   "outputs": [
    {
     "name": "stdout",
     "output_type": "stream",
     "text": [
      "Original dataset: 2,260,701 loans\n",
      "Complete outcomes: 1,348,099 loans\n",
      "Excluded loans: 912,602 (ongoing or late)\n",
      "\n",
      "Default rate: 19.98%\n"
     ]
    }
   ],
   "source": [
    "# Define default categories based on lending industry standards\n",
    "# Charged Off, Default, Does not meet credit policy (Charged Off) = Bad loans\n",
    "# Fully Paid, Current, Does not meet credit policy (Fully Paid) = Good loans\n",
    "# Late, In Grace Period = Exclude (insufficient outcome data)\n",
    "\n",
    "default_categories = [\n",
    "    'Charged Off',\n",
    "    'Default',\n",
    "    'Does not meet the credit policy. Status:Charged Off'\n",
    "]\n",
    "\n",
    "paid_categories = [\n",
    "    'Fully Paid',\n",
    "    'Does not meet the credit policy. Status:Fully Paid'\n",
    "]\n",
    "\n",
    "# Filter to loans with known outcomes\n",
    "df_complete = df[df['loan_status'].isin(default_categories + paid_categories)].copy()\n",
    "\n",
    "# Create binary target\n",
    "df_complete['is_default'] = df_complete['loan_status'].isin(default_categories).astype(int)\n",
    "\n",
    "print(f\"Original dataset: {len(df):,} loans\")\n",
    "print(f\"Complete outcomes: {len(df_complete):,} loans\")\n",
    "print(f\"Excluded loans: {len(df) - len(df_complete):,} (ongoing or late)\")\n",
    "print(f\"\\nDefault rate: {df_complete['is_default'].mean()*100:.2f}%\")"
   ]
  },
  {
   "cell_type": "code",
   "execution_count": 14,
   "id": "3c795e38-0c7a-4df9-b945-0ba147f16b01",
   "metadata": {},
   "outputs": [
    {
     "name": "stdout",
     "output_type": "stream",
     "text": [
      "FINANCIAL IMPACT ANALYSIS\n",
      "============================================================\n",
      "Total amount funded: $19,412,877,700\n",
      "Total number of defaults: 269,360\n",
      "Total losses from defaults: $1,629,691,615\n",
      "Average loss per default: $6,050\n",
      "Loss rate (as % of funded): 8.39%\n",
      "\n",
      "Current default rate: 19.98%\n",
      "\n",
      "Business Case:\n",
      "A 1 percentage point reduction in default rate would save: $16,296,916\n",
      "A 2 percentage point reduction in default rate would save: $32,593,832\n"
     ]
    }
   ],
   "source": [
    "# Calculate actual financial losses in the dataset\n",
    "df_complete['funded_amnt'] = pd.to_numeric(df_complete['funded_amnt'], errors='coerce')\n",
    "df_complete['total_pymnt'] = pd.to_numeric(df_complete['total_pymnt'], errors='coerce')\n",
    "df_complete['recoveries'] = pd.to_numeric(df_complete['recoveries'], errors='coerce')\n",
    "\n",
    "# Net loss per loan\n",
    "df_complete['net_loss'] = np.where(\n",
    "    df_complete['is_default'] == 1,\n",
    "    df_complete['funded_amnt'] - df_complete['total_pymnt'] - df_complete['recoveries'],\n",
    "    0\n",
    ")\n",
    "\n",
    "# Summary statistics\n",
    "total_funded = df_complete['funded_amnt'].sum()\n",
    "total_defaults = df_complete['is_default'].sum()\n",
    "total_loss = df_complete['net_loss'].sum()\n",
    "avg_loss_per_default = df_complete[df_complete['is_default']==1]['net_loss'].mean()\n",
    "current_default_rate = df_complete['is_default'].mean()\n",
    "\n",
    "print(\"FINANCIAL IMPACT ANALYSIS\")\n",
    "print(\"=\"*60)\n",
    "print(f\"Total amount funded: ${total_funded:,.0f}\")\n",
    "print(f\"Total number of defaults: {total_defaults:,}\")\n",
    "print(f\"Total losses from defaults: ${total_loss:,.0f}\")\n",
    "print(f\"Average loss per default: ${avg_loss_per_default:,.0f}\")\n",
    "print(f\"Loss rate (as % of funded): {(total_loss/total_funded)*100:.2f}%\")\n",
    "print(f\"\\nCurrent default rate: {current_default_rate*100:.2f}%\")\n",
    "\n",
    "# Correct savings calculation\n",
    "# If we reduce default rate by 1%, we prevent (total_loans * 0.01) defaults\n",
    "total_loans = len(df_complete)\n",
    "one_pct_reduction_savings = total_loans * 0.01 * current_default_rate * avg_loss_per_default\n",
    "two_pct_reduction_savings = total_loans * 0.02 * current_default_rate * avg_loss_per_default\n",
    "\n",
    "print(\"\\nBusiness Case:\")\n",
    "print(f\"A 1 percentage point reduction in default rate would save: ${one_pct_reduction_savings:,.0f}\")\n",
    "print(f\"A 2 percentage point reduction in default rate would save: ${two_pct_reduction_savings:,.0f}\")"
   ]
  },
  {
   "cell_type": "code",
   "execution_count": 16,
   "id": "9be00832-808d-47d0-ac62-281658a4c88e",
   "metadata": {},
   "outputs": [
    {
     "name": "stdout",
     "output_type": "stream",
     "text": [
      "ANNUAL PERFORMANCE TRENDS\n",
      "============================================================\n",
      "            Total_Defaults  Default_Rate  Total_Loans   Total_Funded  \\\n",
      "issue_year                                                             \n",
      "2007                   158         0.262          603    4791550.000   \n",
      "2008                   496         0.207         2393   19975025.000   \n",
      "2009                   723         0.137         5281   51814750.000   \n",
      "2010                  1757         0.140        12537  126351175.000   \n",
      "2011                  3297         0.152        21721  257363650.000   \n",
      "2012                  8644         0.162        53367  717942625.000   \n",
      "2013                 21024         0.156       134804 1982607275.000   \n",
      "2014                 41162         0.184       223103 3253489500.000   \n",
      "2015                 75804         0.202       375546 5498601150.000   \n",
      "2016                 68252         0.233       293105 4240361600.000   \n",
      "2017                 39169         0.231       169321 2421502475.000   \n",
      "2018                  8874         0.158        56318  838076925.000   \n",
      "\n",
      "              Total_Loss  \n",
      "issue_year                \n",
      "2007          524273.444  \n",
      "2008         2062720.734  \n",
      "2009         3108619.199  \n",
      "2010         6183097.549  \n",
      "2011        14339695.148  \n",
      "2012        36386098.722  \n",
      "2013        76738629.716  \n",
      "2014       166627346.660  \n",
      "2015       403187926.742  \n",
      "2016       440269513.670  \n",
      "2017       357985656.580  \n",
      "2018       122278037.100  \n"
     ]
    }
   ],
   "source": [
    "# Convert issue date to datetime\n",
    "df_complete['issue_d'] = pd.to_datetime(df_complete['issue_d'])\n",
    "df_complete['issue_year'] = df_complete['issue_d'].dt.year\n",
    "\n",
    "# Calculate annual default rates\n",
    "annual_defaults = df_complete.groupby('issue_year').agg({\n",
    "    'is_default': ['sum', 'mean', 'count'],\n",
    "    'funded_amnt': 'sum',\n",
    "    'net_loss': 'sum'\n",
    "}).round(4)\n",
    "\n",
    "annual_defaults.columns = ['Total_Defaults', 'Default_Rate', 'Total_Loans', \n",
    "                           'Total_Funded', 'Total_Loss']\n",
    "\n",
    "print(\"ANNUAL PERFORMANCE TRENDS\")\n",
    "print(\"=\"*60)\n",
    "print(annual_defaults)"
   ]
  },
  {
   "cell_type": "code",
   "execution_count": 18,
   "id": "8560a60f-c065-4984-9c3e-5e05258ceb7f",
   "metadata": {},
   "outputs": [
    {
     "name": "stdout",
     "output_type": "stream",
     "text": [
      "DEFAULT RATES BY LOAN GRADE\n",
      "============================================================\n",
      "       Total_Loans  Defaults  Default_Rate  Avg_Loan_Amount   Total_Funded  \\\n",
      "grade                                                                        \n",
      "A           235193     14214         0.060        13879.205 3264291775.000   \n",
      "B           393102     52661         0.134        13225.061 5198798075.000   \n",
      "C           382323     85805         0.224        14174.676 5419304775.000   \n",
      "D           201657     61264         0.304        15242.683 3073793625.000   \n",
      "E            94192     36199         0.384        17545.589 1652654100.000   \n",
      "F            32306     14585         0.452        19003.804  613936900.000   \n",
      "G             9326      4632         0.497        20383.707  190098450.000   \n",
      "\n",
      "       Avg_Interest_Rate    Total_Loss  \n",
      "grade                                   \n",
      "A                  7.114  77303614.031  \n",
      "B                 10.679 279318927.228  \n",
      "C                 14.019 504017883.467  \n",
      "D                 17.710 382583945.928  \n",
      "E                 21.107 243489405.624  \n",
      "F                 24.876 104949460.305  \n",
      "G                 27.542  38028378.683  \n",
      "\n",
      "Key Insight: Higher grades (A) should have lower default rates than lower grades (F,G)\n"
     ]
    }
   ],
   "source": [
    "# Analyze default rates by loan grade (A, B, C, D, E, F, G)\n",
    "grade_analysis = df_complete.groupby('grade').agg({\n",
    "    'is_default': ['count', 'sum', 'mean'],\n",
    "    'funded_amnt': ['mean', 'sum'],\n",
    "    'int_rate': 'mean',\n",
    "    'net_loss': 'sum'\n",
    "}).round(4)\n",
    "\n",
    "grade_analysis.columns = ['Total_Loans', 'Defaults', 'Default_Rate', \n",
    "                          'Avg_Loan_Amount', 'Total_Funded', \n",
    "                          'Avg_Interest_Rate', 'Total_Loss']\n",
    "\n",
    "print(\"DEFAULT RATES BY LOAN GRADE\")\n",
    "print(\"=\"*60)\n",
    "print(grade_analysis)\n",
    "print(\"\\nKey Insight: Higher grades (A) should have lower default rates than lower grades (F,G)\")"
   ]
  },
  {
   "cell_type": "code",
   "execution_count": 20,
   "id": "19c8d73d-4014-40c4-9144-39b36eec2e5c",
   "metadata": {},
   "outputs": [
    {
     "name": "stdout",
     "output_type": "stream",
     "text": [
      "BUSINESS OBJECTIVES\n",
      "============================================================\n",
      "Primary Objective: Reduce default rate while maintaining approval volume\n",
      "Target Default Reduction: 15-20% relative reduction\n",
      "Minimum Approval Rate: 70% of current volume\n",
      "Risk Tolerance: Accept up to 5% false positive rate (good customers rejected)\n",
      "Model Performance Target: AUC > 0.70, Precision > 0.60 for default class\n",
      "\n",
      "CONSTRAINTS\n",
      "============================================================\n",
      "Regulatory: Must provide explanations for denials (FCRA compliance)\n",
      "Fairness: No disparate impact on protected classes\n",
      "Operational: Predictions must be available within 2 seconds\n",
      "Business: Model must be interpretable for credit officers\n"
     ]
    }
   ],
   "source": [
    "# Document the business objectives\n",
    "business_objectives = {\n",
    "    'Primary Objective': 'Reduce default rate while maintaining approval volume',\n",
    "    'Target Default Reduction': '15-20% relative reduction',\n",
    "    'Minimum Approval Rate': '70% of current volume',\n",
    "    'Risk Tolerance': 'Accept up to 5% false positive rate (good customers rejected)',\n",
    "    'Model Performance Target': 'AUC > 0.70, Precision > 0.60 for default class'\n",
    "}\n",
    "\n",
    "constraints = {\n",
    "    'Regulatory': 'Must provide explanations for denials (FCRA compliance)',\n",
    "    'Fairness': 'No disparate impact on protected classes',\n",
    "    'Operational': 'Predictions must be available within 2 seconds',\n",
    "    'Business': 'Model must be interpretable for credit officers'\n",
    "}\n",
    "\n",
    "print(\"BUSINESS OBJECTIVES\")\n",
    "print(\"=\"*60)\n",
    "for key, value in business_objectives.items():\n",
    "    print(f\"{key}: {value}\")\n",
    "\n",
    "print(\"\\nCONSTRAINTS\")\n",
    "print(\"=\"*60)\n",
    "for key, value in constraints.items():\n",
    "    print(f\"{key}: {value}\")"
   ]
  },
  {
   "cell_type": "code",
   "execution_count": 35,
   "id": "2b7a8205-95bb-488f-8a15-7ef20c55d12f",
   "metadata": {
    "scrolled": true
   },
   "outputs": [
    {
     "name": "stdout",
     "output_type": "stream",
     "text": [
      "Processed dataset saved successfully: 1,348,099 rows\n",
      "Features: 154 columns\n",
      "Target variable: is_default\n",
      "Default rate: 19.98%\n"
     ]
    }
   ],
   "source": [
    "# Save the filtered dataset with target variable\n",
    "import os\n",
    "\n",
    "# Create directory if it doesn't exist\n",
    "os.makedirs('../data/processed', exist_ok=True)\n",
    "\n",
    "# Save with error handling\n",
    "try:\n",
    "    df_complete.to_csv('accepted_2007_to_2018Q4.csv', index=False)\n",
    "    print(f\"Processed dataset saved successfully: {len(df_complete):,} rows\")\n",
    "except Exception as e:\n",
    "    print(f\"Could not save to CSV due to: {str(e)}\")\n",
    "    print(\"Attempting to save as pickle instead...\")\n",
    "    df_complete.to_pickle('../data/processed/loans_with_target.pkl')\n",
    "    print(\"Saved as pickle file instead\")\n",
    "\n",
    "print(f\"Features: {df_complete.shape[1]} columns\")\n",
    "print(f\"Target variable: is_default\")\n",
    "print(f\"Default rate: {df_complete['is_default'].mean()*100:.2f}%\")"
   ]
  },
  {
   "cell_type": "code",
   "execution_count": 31,
   "id": "6a85ba38-4fa7-4c50-80d4-ee22017e5e1b",
   "metadata": {},
   "outputs": [
    {
     "name": "stdout",
     "output_type": "stream",
     "text": [
      "EXECUTIVE SUMMARY STATISTICS\n",
      "============================================================\n",
      "total_loans_analyzed: 1348099\n",
      "default_rate_percent: 19.98\n",
      "total_loss_amount: 1629691615.0\n",
      "avg_loss_per_default: 6050.0\n",
      "potential_annual_savings_2pct_reduction: 213549990657.0\n",
      "date_range: 2007-06-01 to 2018-12-01\n",
      "\n",
      "Metrics saved to reports/business_metrics.json\n"
     ]
    }
   ],
   "source": [
    "# Create summary statistics for executive presentation\n",
    "summary_stats = {\n",
    "    'total_loans_analyzed': len(df_complete),\n",
    "    'default_rate_percent': round(df_complete['is_default'].mean() * 100, 2),\n",
    "    'total_loss_amount': round(total_loss, 0),\n",
    "    'avg_loss_per_default': round(avg_loss_per_default, 0),\n",
    "    'potential_annual_savings_2pct_reduction': round(total_funded * 0.02 * avg_loss_per_default / 11, 0),\n",
    "    'date_range': f\"{df_complete['issue_d'].min().date()} to {df_complete['issue_d'].max().date()}\"\n",
    "}\n",
    "\n",
    "print(\"EXECUTIVE SUMMARY STATISTICS\")\n",
    "print(\"=\"*60)\n",
    "for key, value in summary_stats.items():\n",
    "    print(f\"{key}: {value}\")\n",
    "    \n",
    "# Create reports directory and save\n",
    "import os\n",
    "os.makedirs('../reports', exist_ok=True)\n",
    "\n",
    "import json\n",
    "with open('../reports/business_metrics.json', 'w') as f:\n",
    "    json.dump(summary_stats, f, indent=4, default=str)\n",
    "    \n",
    "print(\"\\nMetrics saved to reports/business_metrics.json\")"
   ]
  },
  {
   "cell_type": "code",
   "execution_count": null,
   "id": "6318022b-9b6a-487d-9e5f-4fe919fa46e7",
   "metadata": {},
   "outputs": [],
   "source": []
  }
 ],
 "metadata": {
  "kernelspec": {
   "display_name": "Python [conda env:base] *",
   "language": "python",
   "name": "conda-base-py"
  },
  "language_info": {
   "codemirror_mode": {
    "name": "ipython",
    "version": 3
   },
   "file_extension": ".py",
   "mimetype": "text/x-python",
   "name": "python",
   "nbconvert_exporter": "python",
   "pygments_lexer": "ipython3",
   "version": "3.12.7"
  }
 },
 "nbformat": 4,
 "nbformat_minor": 5
}
