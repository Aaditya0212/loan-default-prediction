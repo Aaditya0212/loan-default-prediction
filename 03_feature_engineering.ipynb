{
 "cells": [
  {
   "cell_type": "code",
   "execution_count": 2,
   "id": "a0ca514c-e3a2-43a7-ad48-fcbed1eb377f",
   "metadata": {},
   "outputs": [
    {
     "name": "stdout",
     "output_type": "stream",
     "text": [
      "Dataset loaded: 1,348,099 rows x 154 columns\n",
      "Default rate: 19.98%\n",
      "\n",
      "Starting feature engineering process...\n"
     ]
    }
   ],
   "source": [
    "import pandas as pd\n",
    "import numpy as np\n",
    "import matplotlib.pyplot as plt\n",
    "import seaborn as sns\n",
    "from sklearn.preprocessing import LabelEncoder\n",
    "import warnings\n",
    "warnings.filterwarnings('ignore')\n",
    "\n",
    "# Load processed data\n",
    "df = pd.read_csv('accepted_2007_to_2018Q4.csv', low_memory=False)\n",
    "\n",
    "print(f\"Dataset loaded: {len(df):,} rows x {df.shape[1]} columns\")\n",
    "print(f\"Default rate: {df['is_default'].mean()*100:.2f}%\")\n",
    "print(f\"\\nStarting feature engineering process...\")"
   ]
  },
  {
   "cell_type": "code",
   "execution_count": 3,
   "id": "95e07448-9549-4da8-9489-a5b62a4bf9e6",
   "metadata": {},
   "outputs": [
    {
     "name": "stdout",
     "output_type": "stream",
     "text": [
      "Dropping 58 columns with >50% missing data\n",
      "Columns to drop: ['member_id', 'desc', 'mths_since_last_delinq', 'mths_since_last_record', 'next_pymnt_d', 'mths_since_last_major_derog', 'annual_inc_joint', 'dti_joint', 'verification_status_joint', 'open_acc_6m']...\n",
      "\n",
      "Dataset shape after dropping high-missing columns: (1348099, 96)\n",
      "Remaining columns: 96\n"
     ]
    }
   ],
   "source": [
    "# Calculate missing percentages\n",
    "missing_pct = (df.isnull().sum() / len(df) * 100)\n",
    "\n",
    "# Drop columns with >50% missing\n",
    "high_missing = missing_pct[missing_pct > 50].index.tolist()\n",
    "print(f\"Dropping {len(high_missing)} columns with >50% missing data\")\n",
    "print(f\"Columns to drop: {high_missing[:10]}...\")  # Show first 10\n",
    "\n",
    "df_clean = df.drop(columns=high_missing)\n",
    "\n",
    "print(f\"\\nDataset shape after dropping high-missing columns: {df_clean.shape}\")\n",
    "print(f\"Remaining columns: {df_clean.shape[1]}\")"
   ]
  },
  {
   "cell_type": "code",
   "execution_count": 4,
   "id": "5fd0e0ce-10f4-446f-bb84-9d26f45ff9c5",
   "metadata": {},
   "outputs": [
    {
     "name": "stdout",
     "output_type": "stream",
     "text": [
      "Selected 15 numeric features\n",
      "Selected 8 categorical features\n",
      "\n",
      "Working dataset: (1348099, 25)\n"
     ]
    }
   ],
   "source": [
    "# Define core feature categories based on lending domain knowledge\n",
    "\n",
    "numeric_features = [\n",
    "    'loan_amnt', 'funded_amnt', 'int_rate', 'installment',\n",
    "    'annual_inc', 'dti', 'open_acc', 'pub_rec', 'revol_bal',\n",
    "    'revol_util', 'total_acc', 'mort_acc', 'pub_rec_bankruptcies',\n",
    "    'delinq_2yrs', 'inq_last_6mths', 'emp_length_years'\n",
    "]\n",
    "\n",
    "categorical_features = [\n",
    "    'grade', 'sub_grade', 'home_ownership', 'verification_status',\n",
    "    'purpose', 'addr_state', 'initial_list_status', 'application_type'\n",
    "]\n",
    "\n",
    "# Keep only features that exist in the dataset\n",
    "numeric_features = [f for f in numeric_features if f in df_clean.columns]\n",
    "categorical_features = [f for f in categorical_features if f in df_clean.columns]\n",
    "\n",
    "print(f\"Selected {len(numeric_features)} numeric features\")\n",
    "print(f\"Selected {len(categorical_features)} categorical features\")\n",
    "\n",
    "# Create working dataset with target and selected features\n",
    "features_to_keep = numeric_features + categorical_features + ['is_default', 'issue_d']\n",
    "df_model = df_clean[features_to_keep].copy()\n",
    "\n",
    "print(f\"\\nWorking dataset: {df_model.shape}\")"
   ]
  },
  {
   "cell_type": "code",
   "execution_count": 5,
   "id": "417b134b-6406-480c-a5c1-9281c7029a88",
   "metadata": {},
   "outputs": [
    {
     "name": "stdout",
     "output_type": "stream",
     "text": [
      "Payment capacity features created:\n",
      "  - payment_to_income_ratio\n",
      "  - loan_to_income_ratio\n",
      "  - residual_income\n",
      "  - residual_income_ratio\n",
      "  - debt_service_coverage\n"
     ]
    }
   ],
   "source": [
    "# These features represent the borrower's ability to service debt\n",
    "\n",
    "# 1. Monthly payment as percentage of income\n",
    "df_model['payment_to_income_ratio'] = (df_model['installment'] * 12) / df_model['annual_inc']\n",
    "df_model['payment_to_income_ratio'] = df_model['payment_to_income_ratio'].clip(0, 1)  # Cap at 100%\n",
    "\n",
    "# 2. Loan amount relative to annual income\n",
    "df_model['loan_to_income_ratio'] = df_model['loan_amnt'] / df_model['annual_inc']\n",
    "df_model['loan_to_income_ratio'] = df_model['loan_to_income_ratio'].clip(0, 5)  # Cap outliers\n",
    "\n",
    "# 3. Available monthly income after loan payment\n",
    "df_model['monthly_income'] = df_model['annual_inc'] / 12\n",
    "df_model['residual_income'] = df_model['monthly_income'] - df_model['installment']\n",
    "df_model['residual_income_ratio'] = df_model['residual_income'] / df_model['monthly_income']\n",
    "\n",
    "# 4. Debt service coverage - how much income is left after ALL debt payments\n",
    "df_model['total_debt_payment_estimate'] = df_model['monthly_income'] * (df_model['dti'] / 100)\n",
    "df_model['debt_service_coverage'] = (df_model['monthly_income'] - df_model['total_debt_payment_estimate']) / df_model['installment']\n",
    "\n",
    "print(\"Payment capacity features created:\")\n",
    "print(\"  - payment_to_income_ratio\")\n",
    "print(\"  - loan_to_income_ratio\")\n",
    "print(\"  - residual_income\")\n",
    "print(\"  - residual_income_ratio\")\n",
    "print(\"  - debt_service_coverage\")"
   ]
  },
  {
   "cell_type": "code",
   "execution_count": 10,
   "id": "167782df-80c7-4ec6-94eb-a1e1e8b7d80c",
   "metadata": {},
   "outputs": [
    {
     "name": "stdout",
     "output_type": "stream",
     "text": [
      "Credit behavior features created:\n",
      "  - credit_utilization\n",
      "  - avg_account_balance\n",
      "  - accounts_per_10k_income\n",
      "  - has_derogatory\n",
      "  - high_inquiry_flag\n"
     ]
    }
   ],
   "source": [
    "# Features that indicate credit management behavior\n",
    "\n",
    "# 1. Credit utilization rate (already exists as revol_util, but create backup)\n",
    "df_model['credit_utilization'] = df_model['revol_util'].fillna(df_model['revol_util'].median())\n",
    "\n",
    "# 2. Average account balance\n",
    "df_model['avg_account_balance'] = df_model['revol_bal'] / df_model['open_acc'].replace(0, 1)\n",
    "\n",
    "# 3. Account density - total accounts relative to income\n",
    "df_model['accounts_per_10k_income'] = (df_model['total_acc'] / df_model['annual_inc']) * 10000\n",
    "\n",
    "# 4. Derogatory marks indicator\n",
    "df_model['has_derogatory'] = ((df_model['pub_rec'] > 0) | \n",
    "                               (df_model['delinq_2yrs'] > 0) | \n",
    "                               (df_model['pub_rec_bankruptcies'] > 0)).astype(int)\n",
    "\n",
    "# 5. Recent credit seeking behavior\n",
    "df_model['recent_credit_inquiries'] = df_model['inq_last_6mths'].fillna(0)\n",
    "df_model['high_inquiry_flag'] = (df_model['recent_credit_inquiries'] >= 3).astype(int)\n",
    "\n",
    "print(\"Credit behavior features created:\")\n",
    "print(\"  - credit_utilization\")\n",
    "print(\"  - avg_account_balance\")\n",
    "print(\"  - accounts_per_10k_income\")\n",
    "print(\"  - has_derogatory\")\n",
    "print(\"  - high_inquiry_flag\")"
   ]
  },
  {
   "cell_type": "code",
   "execution_count": 16,
   "id": "80ac71a5-d845-4393-b62a-37185d9a5a64",
   "metadata": {},
   "outputs": [
    {
     "name": "stdout",
     "output_type": "stream",
     "text": [
      "Warning: emp_length not found, using default value of 5 years\n",
      "Risk-adjusted features created:\n",
      "  - high_risk_loan\n",
      "  - loan_size_category\n",
      "  - interest_rate_category\n",
      "  - dti_risk_category\n",
      "  - simple_risk_score (0-5 scale)\n"
     ]
    }
   ],
   "source": [
    "# Feature Engineering - Risk-Adjusted Loan Characteristics\n",
    "\n",
    "# First, ensure emp_length_years exists (may not be in saved file)\n",
    "if 'emp_length_years' not in df_model.columns and 'emp_length' in df_model.columns:\n",
    "    emp_length_mapping = {\n",
    "        '< 1 year': 0, '1 year': 1, '2 years': 2, '3 years': 3, '4 years': 4,\n",
    "        '5 years': 5, '6 years': 6, '7 years': 7, '8 years': 8, '9 years': 9,\n",
    "        '10+ years': 10, 'n/a': 0\n",
    "    }\n",
    "    df_model['emp_length_years'] = df_model['emp_length'].map(emp_length_mapping).fillna(0)\n",
    "    print(\"Created emp_length_years from emp_length column\")\n",
    "elif 'emp_length_years' not in df_model.columns:\n",
    "    # If emp_length also doesn't exist, create dummy column\n",
    "    df_model['emp_length_years'] = 5  # Default to 5 years\n",
    "    print(\"Warning: emp_length not found, using default value of 5 years\")\n",
    "\n",
    "# 1. High-risk loan flag (based on EDA insights)\n",
    "df_model['high_risk_loan'] = (\n",
    "    (df_model['loan_amnt'] > 20000) & \n",
    "    (df_model['dti'] > 30) & \n",
    "    (df_model['int_rate'] > 15)\n",
    ").astype(int)\n",
    "\n",
    "# 2. Loan amount buckets\n",
    "df_model['loan_size_category'] = pd.cut(df_model['loan_amnt'], \n",
    "                                         bins=[0, 5000, 10000, 15000, 20000, 40000],\n",
    "                                         labels=['very_small', 'small', 'medium', 'large', 'very_large'])\n",
    "\n",
    "# 3. Interest rate buckets\n",
    "df_model['interest_rate_category'] = pd.cut(df_model['int_rate'],\n",
    "                                             bins=[0, 8, 12, 16, 20, 35],\n",
    "                                             labels=['low', 'moderate', 'elevated', 'high', 'very_high'])\n",
    "\n",
    "# 4. DTI risk categories\n",
    "df_model['dti_risk_category'] = pd.cut(df_model['dti'],\n",
    "                                        bins=[0, 10, 20, 30, 40, 100],\n",
    "                                        labels=['low_risk', 'moderate_risk', 'elevated_risk', 'high_risk', 'very_high_risk'])\n",
    "\n",
    "# 5. Combined risk score (simple additive)\n",
    "df_model['simple_risk_score'] = (\n",
    "    (df_model['int_rate'] > 15).astype(int) +\n",
    "    (df_model['dti'] > 25).astype(int) +\n",
    "    (df_model['credit_utilization'] > 70).astype(int) +\n",
    "    (df_model['has_derogatory'] == 1).astype(int) +\n",
    "    (df_model['emp_length_years'] < 2).astype(int)\n",
    ")\n",
    "\n",
    "print(\"Risk-adjusted features created:\")\n",
    "print(\"  - high_risk_loan\")\n",
    "print(\"  - loan_size_category\")\n",
    "print(\"  - interest_rate_category\")\n",
    "print(\"  - dti_risk_category\")\n",
    "print(\"  - simple_risk_score (0-5 scale)\")"
   ]
  },
  {
   "cell_type": "code",
   "execution_count": 18,
   "id": "ac89fd42-21ec-4a87-905a-289adbd27a80",
   "metadata": {},
   "outputs": [
    {
     "name": "stdout",
     "output_type": "stream",
     "text": [
      "Temporal features created:\n",
      "  - loan_year, loan_month, loan_quarter\n",
      "  - loan_vintage\n",
      "  - is_year_end, is_summer\n",
      "  - recession_period\n"
     ]
    }
   ],
   "source": [
    "# Extract time-based patterns from loan issue date\n",
    "\n",
    "df_model['issue_d'] = pd.to_datetime(df_model['issue_d'])\n",
    "\n",
    "# 1. Year and month of loan origination\n",
    "df_model['loan_year'] = df_model['issue_d'].dt.year\n",
    "df_model['loan_month'] = df_model['issue_d'].dt.month\n",
    "df_model['loan_quarter'] = df_model['issue_d'].dt.quarter\n",
    "\n",
    "# 2. Loan vintage (years since 2007)\n",
    "df_model['loan_vintage'] = df_model['loan_year'] - 2007\n",
    "\n",
    "# 3. Seasonal indicators\n",
    "df_model['is_year_end'] = df_model['loan_quarter'].isin([4]).astype(int)\n",
    "df_model['is_summer'] = df_model['loan_quarter'].isin([2, 3]).astype(int)\n",
    "\n",
    "# 4. Economic cycle proxy (2007-2009 = recession, 2010-2018 = recovery)\n",
    "df_model['recession_period'] = df_model['loan_year'].isin([2007, 2008, 2009]).astype(int)\n",
    "\n",
    "print(\"Temporal features created:\")\n",
    "print(\"  - loan_year, loan_month, loan_quarter\")\n",
    "print(\"  - loan_vintage\")\n",
    "print(\"  - is_year_end, is_summer\")\n",
    "print(\"  - recession_period\")\n",
    "\n",
    "# Drop the original date column\n",
    "df_model = df_model.drop(columns=['issue_d'])"
   ]
  },
  {
   "cell_type": "code",
   "execution_count": 20,
   "id": "0be1d385-b626-4d45-8e75-85f6e753562f",
   "metadata": {},
   "outputs": [
    {
     "name": "stdout",
     "output_type": "stream",
     "text": [
      "Missing values after feature engineering:\n",
      "mort_acc                       50030\n",
      "dti_risk_category               1790\n",
      "pub_rec_bankruptcies            1365\n",
      "revol_util                       897\n",
      "total_debt_payment_estimate      378\n",
      "debt_service_coverage            378\n",
      "dti                              374\n",
      "inq_last_6mths                    30\n",
      "open_acc                          29\n",
      "pub_rec                           29\n",
      "total_acc                         29\n",
      "delinq_2yrs                       29\n",
      "accounts_per_10k_income           29\n",
      "avg_account_balance               29\n",
      "annual_inc                         4\n",
      "residual_income_ratio              4\n",
      "residual_income                    4\n",
      "monthly_income                     4\n",
      "loan_to_income_ratio               4\n",
      "payment_to_income_ratio            4\n",
      "dtype: int64\n",
      "\n",
      "Filling missing values:\n",
      "  - 39 numeric columns with median\n",
      "  - 11 categorical columns with mode\n",
      "\n",
      "Remaining missing values: 0\n"
     ]
    }
   ],
   "source": [
    "# Check missing values in engineered features\n",
    "print(\"Missing values after feature engineering:\")\n",
    "missing_after = df_model.isnull().sum()\n",
    "missing_after = missing_after[missing_after > 0].sort_values(ascending=False)\n",
    "print(missing_after.head(20))\n",
    "\n",
    "# Strategy: Fill numeric with median, categorical with mode\n",
    "numeric_cols = df_model.select_dtypes(include=[np.number]).columns\n",
    "categorical_cols = df_model.select_dtypes(include=['object', 'category']).columns\n",
    "\n",
    "print(f\"\\nFilling missing values:\")\n",
    "print(f\"  - {len(numeric_cols)} numeric columns with median\")\n",
    "print(f\"  - {len(categorical_cols)} categorical columns with mode\")\n",
    "\n",
    "for col in numeric_cols:\n",
    "    if df_model[col].isnull().sum() > 0:\n",
    "        df_model[col].fillna(df_model[col].median(), inplace=True)\n",
    "\n",
    "for col in categorical_cols:\n",
    "    if df_model[col].isnull().sum() > 0:\n",
    "        df_model[col].fillna(df_model[col].mode()[0], inplace=True)\n",
    "\n",
    "print(f\"\\nRemaining missing values: {df_model.isnull().sum().sum()}\")"
   ]
  },
  {
   "cell_type": "code",
   "execution_count": 22,
   "id": "b0b9cfa6-d43b-4b11-a888-0b89ce146b57",
   "metadata": {},
   "outputs": [
    {
     "name": "stdout",
     "output_type": "stream",
     "text": [
      "Encoded home_ownership: 6 unique values\n",
      "Encoded verification_status: 3 unique values\n",
      "Encoded purpose: 14 unique values\n",
      "Encoded initial_list_status: 2 unique values\n",
      "Encoded application_type: 2 unique values\n",
      "One-hot encoded loan_size_category: 4 dummy variables created\n",
      "One-hot encoded interest_rate_category: 4 dummy variables created\n",
      "One-hot encoded dti_risk_category: 4 dummy variables created\n",
      "\n",
      "Dataset shape after encoding: (1348099, 68)\n"
     ]
    }
   ],
   "source": [
    "# Convert categorical features to numeric for modeling\n",
    "\n",
    "# Grade and subgrade are ordinal\n",
    "grade_mapping = {'A': 1, 'B': 2, 'C': 3, 'D': 4, 'E': 5, 'F': 6, 'G': 7}\n",
    "df_model['grade_encoded'] = df_model['grade'].map(grade_mapping)\n",
    "\n",
    "# For other categoricals, use label encoding or one-hot encoding\n",
    "label_encode_cols = ['home_ownership', 'verification_status', 'purpose', \n",
    "                     'initial_list_status', 'application_type']\n",
    "\n",
    "for col in label_encode_cols:\n",
    "    if col in df_model.columns:\n",
    "        le = LabelEncoder()\n",
    "        df_model[f'{col}_encoded'] = le.fit_transform(df_model[col].astype(str))\n",
    "        print(f\"Encoded {col}: {len(le.classes_)} unique values\")\n",
    "\n",
    "# One-hot encode the risk categories we created\n",
    "categorical_risk_cols = ['loan_size_category', 'interest_rate_category', 'dti_risk_category']\n",
    "\n",
    "for col in categorical_risk_cols:\n",
    "    if col in df_model.columns:\n",
    "        dummies = pd.get_dummies(df_model[col], prefix=col, drop_first=True)\n",
    "        df_model = pd.concat([df_model, dummies], axis=1)\n",
    "        print(f\"One-hot encoded {col}: {dummies.shape[1]} dummy variables created\")\n",
    "\n",
    "print(f\"\\nDataset shape after encoding: {df_model.shape}\")"
   ]
  },
  {
   "cell_type": "code",
   "execution_count": 24,
   "id": "da4e30d6-7065-46d5-9204-d814bda3e9e1",
   "metadata": {},
   "outputs": [
    {
     "name": "stdout",
     "output_type": "stream",
     "text": [
      "TOP 15 FEATURES CORRELATED WITH DEFAULT:\n",
      "============================================================\n",
      "is_default                     1.000000\n",
      "grade_encoded                  0.261279\n",
      "int_rate                       0.258577\n",
      "simple_risk_score              0.174156\n",
      "payment_to_income_ratio        0.107735\n",
      "loan_to_income_ratio           0.104270\n",
      "verification_status_encoded    0.089175\n",
      "dti                            0.084204\n",
      "home_ownership_encoded         0.070159\n",
      "inq_last_6mths                 0.065949\n",
      "recent_credit_inquiries        0.065949\n",
      "funded_amnt                    0.065321\n",
      "loan_amnt                      0.065289\n",
      "high_risk_loan                 0.061690\n",
      "revol_util                     0.059972\n",
      "Name: is_default, dtype: float64\n",
      "\n",
      "\n",
      "BOTTOM 15 FEATURES (NEGATIVE CORRELATION):\n",
      "============================================================\n",
      "accounts_per_10k_income    0.000516\n",
      "residual_income_ratio      0.000280\n",
      "loan_month                -0.000942\n",
      "loan_quarter              -0.001839\n",
      "recession_period          -0.006574\n",
      "is_year_end               -0.008425\n",
      "total_acc                 -0.011411\n",
      "revol_bal                 -0.019648\n",
      "avg_account_balance       -0.027424\n",
      "annual_inc                -0.041727\n",
      "monthly_income            -0.041727\n",
      "residual_income           -0.044600\n",
      "debt_service_coverage     -0.056288\n",
      "mort_acc                  -0.072502\n",
      "emp_length_years                NaN\n",
      "Name: is_default, dtype: float64\n"
     ]
    },
    {
     "data": {
      "image/png": "[encoded data removed]",
      "text/plain": [
       "<Figure size 1000x800 with 1 Axes>"
      ]
     },
     "metadata": {},
     "output_type": "display_data"
    }
   ],
   "source": [
    "# Identify highly correlated features to potentially remove\n",
    "\n",
    "# Select only numeric columns for correlation\n",
    "numeric_df = df_model.select_dtypes(include=[np.number])\n",
    "\n",
    "# Calculate correlation with target\n",
    "target_corr = numeric_df.corr()['is_default'].sort_values(ascending=False)\n",
    "\n",
    "print(\"TOP 15 FEATURES CORRELATED WITH DEFAULT:\")\n",
    "print(\"=\"*60)\n",
    "print(target_corr.head(15))\n",
    "\n",
    "print(\"\\n\\nBOTTOM 15 FEATURES (NEGATIVE CORRELATION):\")\n",
    "print(\"=\"*60)\n",
    "print(target_corr.tail(15))\n",
    "\n",
    "# Visualize top correlations\n",
    "fig, ax = plt.subplots(1, 1, figsize=(10, 8))\n",
    "top_features = target_corr.head(20).drop('is_default')\n",
    "top_features.plot(kind='barh', ax=ax, color='steelblue')\n",
    "ax.set_title('Top 20 Features Correlated with Default', fontsize=14, fontweight='bold')\n",
    "ax.set_xlabel('Correlation with Default')\n",
    "plt.tight_layout()\n",
    "plt.savefig('../reports/feature_correlations.png', dpi=300, bbox_inches='tight')\n",
    "plt.show()"
   ]
  },
  {
   "cell_type": "code",
   "execution_count": 26,
   "id": "69311260-a0e3-4937-aa58-9fd7cb56e560",
   "metadata": {},
   "outputs": [
    {
     "name": "stdout",
     "output_type": "stream",
     "text": [
      "Found 12 highly correlated feature pairs (r > 0.85)\n",
      "\n",
      "Highly correlated pairs:\n",
      "  funded_amnt <-> loan_amnt: 1.000\n",
      "  installment <-> loan_amnt: 0.953\n",
      "  installment <-> funded_amnt: 0.954\n",
      "  loan_to_income_ratio <-> payment_to_income_ratio: 0.929\n",
      "  monthly_income <-> annual_inc: 1.000\n",
      "  residual_income <-> annual_inc: 0.999\n",
      "  residual_income <-> monthly_income: 0.999\n",
      "  credit_utilization <-> revol_util: 1.000\n",
      "  recent_credit_inquiries <-> inq_last_6mths: 1.000\n",
      "  loan_quarter <-> loan_month: 0.971\n",
      "\n",
      "Dropping 10 redundant features due to multicollinearity\n",
      "Final dataset shape: (1348099, 58)\n"
     ]
    }
   ],
   "source": [
    "# Find pairs of features highly correlated with each other\n",
    "correlation_matrix = numeric_df.corr().abs()\n",
    "\n",
    "# Create upper triangle mask\n",
    "upper_triangle = correlation_matrix.where(\n",
    "    np.triu(np.ones(correlation_matrix.shape), k=1).astype(bool)\n",
    ")\n",
    "\n",
    "# Find features with correlation > 0.85\n",
    "high_corr_pairs = []\n",
    "for column in upper_triangle.columns:\n",
    "    for index in upper_triangle.index:\n",
    "        if upper_triangle.loc[index, column] > 0.85:\n",
    "            high_corr_pairs.append((column, index, upper_triangle.loc[index, column]))\n",
    "\n",
    "print(f\"Found {len(high_corr_pairs)} highly correlated feature pairs (r > 0.85)\")\n",
    "print(\"\\nHighly correlated pairs:\")\n",
    "for feat1, feat2, corr in high_corr_pairs[:10]:\n",
    "    print(f\"  {feat1} <-> {feat2}: {corr:.3f}\")\n",
    "\n",
    "# Drop one from each pair (keep the one more correlated with target)\n",
    "features_to_drop = []\n",
    "for feat1, feat2, corr_val in high_corr_pairs:\n",
    "    if feat1 not in features_to_drop and feat2 not in features_to_drop:\n",
    "        # Keep feature with higher correlation to target\n",
    "        corr1 = abs(target_corr.get(feat1, 0))\n",
    "        corr2 = abs(target_corr.get(feat2, 0))\n",
    "        if corr1 < corr2:\n",
    "            features_to_drop.append(feat1)\n",
    "        else:\n",
    "            features_to_drop.append(feat2)\n",
    "\n",
    "print(f\"\\nDropping {len(features_to_drop)} redundant features due to multicollinearity\")\n",
    "df_model = df_model.drop(columns=features_to_drop)\n",
    "\n",
    "print(f\"Final dataset shape: {df_model.shape}\")"
   ]
  },
  {
   "cell_type": "code",
   "execution_count": 28,
   "id": "af96011b-cd79-4113-9fad-789842361a8d",
   "metadata": {},
   "outputs": [
    {
     "name": "stdout",
     "output_type": "stream",
     "text": [
      "FINAL FEATURE SET SUMMARY\n",
      "============================================================\n",
      "Total features: 57\n",
      "Total samples: 1,348,099\n",
      "Default rate: 19.98%\n",
      "\n",
      "Data quality check:\n",
      "  Missing values: 0\n",
      "  Infinite values: 722\n",
      "  Duplicate rows: 0\n",
      "\n",
      "Feature-engineered dataset saved to: data/processed/loans_feature_engineered.csv\n",
      "Feature list saved to: reports/feature_list.txt\n"
     ]
    }
   ],
   "source": [
    "# Final dataset ready for modeling\n",
    "print(\"FINAL FEATURE SET SUMMARY\")\n",
    "print(\"=\"*60)\n",
    "print(f\"Total features: {df_model.shape[1] - 1}\")  # Minus target variable\n",
    "print(f\"Total samples: {df_model.shape[0]:,}\")\n",
    "print(f\"Default rate: {df_model['is_default'].mean()*100:.2f}%\")\n",
    "\n",
    "# Check for any remaining issues\n",
    "print(f\"\\nData quality check:\")\n",
    "print(f\"  Missing values: {df_model.isnull().sum().sum()}\")\n",
    "print(f\"  Infinite values: {np.isinf(df_model.select_dtypes(include=[np.number])).sum().sum()}\")\n",
    "print(f\"  Duplicate rows: {df_model.duplicated().sum()}\")\n",
    "\n",
    "# Replace any remaining inf values\n",
    "df_model.replace([np.inf, -np.inf], np.nan, inplace=True)\n",
    "df_model.fillna(df_model.median(numeric_only=True), inplace=True)\n",
    "\n",
    "# Save engineered dataset\n",
    "df_model.to_csv('../data/processed/loans_feature_engineered.csv', index=False)\n",
    "print(\"\\nFeature-engineered dataset saved to: data/processed/loans_feature_engineered.csv\")\n",
    "\n",
    "# Save feature names for reference\n",
    "feature_names = [col for col in df_model.columns if col != 'is_default']\n",
    "with open('../reports/feature_list.txt', 'w') as f:\n",
    "    f.write(f\"Total features: {len(feature_names)}\\n\\n\")\n",
    "    for i, feat in enumerate(feature_names, 1):\n",
    "        f.write(f\"{i}. {feat}\\n\")\n",
    "print(\"Feature list saved to: reports/feature_list.txt\")"
   ]
  },
  {
   "cell_type": "code",
   "execution_count": 29,
   "id": "8980eb94-11a0-43e1-a3f0-18d2de103ba2",
   "metadata": {},
   "outputs": [
    {
     "name": "stdout",
     "output_type": "stream",
     "text": [
      "FEATURE ENGINEERING PHASE COMPLETE\n",
      "============================================================\n",
      "original_columns: 154\n",
      "final_features: 57\n",
      "samples: 1348099\n",
      "default_rate: 19.98\n",
      "engineered_features_added: 27\n",
      "\n",
      "\n",
      "Key engineered feature categories:\n",
      "  1. Payment capacity metrics (5 features)\n",
      "  2. Credit behavior indicators (5 features)\n",
      "  3. Risk-adjusted loan characteristics (9+ features)\n",
      "  4. Temporal patterns (7 features)\n",
      "  5. Categorical encodings (10+ features)\n",
      "\n",
      "\n",
      "Ready for Phase 4: Model Building\n"
     ]
    }
   ],
   "source": [
    "# Create summary statistics for presentation\n",
    "summary = {\n",
    "    'original_columns': df.shape[1],\n",
    "    'final_features': df_model.shape[1] - 1,\n",
    "    'samples': len(df_model),\n",
    "    'default_rate': round(df_model['is_default'].mean() * 100, 2),\n",
    "    'engineered_features_added': len([col for col in df_model.columns if any(x in col for x in \n",
    "        ['_ratio', '_category', '_flag', '_score', '_encoded', '_period', '_vintage'])]),\n",
    "}\n",
    "\n",
    "print(\"FEATURE ENGINEERING PHASE COMPLETE\")\n",
    "print(\"=\"*60)\n",
    "for key, value in summary.items():\n",
    "    print(f\"{key}: {value}\")\n",
    "\n",
    "print(\"\\n\\nKey engineered feature categories:\")\n",
    "print(\"  1. Payment capacity metrics (5 features)\")\n",
    "print(\"  2. Credit behavior indicators (5 features)\")\n",
    "print(\"  3. Risk-adjusted loan characteristics (9+ features)\")\n",
    "print(\"  4. Temporal patterns (7 features)\")\n",
    "print(\"  5. Categorical encodings (10+ features)\")\n",
    "\n",
    "print(\"\\n\\nReady for Phase 4: Model Building\")"
   ]
  },
  {
   "cell_type": "code",
   "execution_count": null,
   "id": "0bea558e-7a6c-4731-9705-9ed340943b97",
   "metadata": {},
   "outputs": [],
   "source": []
  }
 ],
 "metadata": {
  "kernelspec": {
   "display_name": "Python [conda env:base] *",
   "language": "python",
   "name": "conda-base-py"
  },
  "language_info": {
   "codemirror_mode": {
    "name": "ipython",
    "version": 3
   },
   "file_extension": ".py",
   "mimetype": "text/x-python",
   "name": "python",
   "nbconvert_exporter": "python",
   "pygments_lexer": "ipython3",
   "version": "3.12.7"
  }
 },
 "nbformat": 4,
 "nbformat_minor": 5
}
